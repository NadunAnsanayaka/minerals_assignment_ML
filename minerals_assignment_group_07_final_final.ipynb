{
  "cells": [
    {
      "cell_type": "markdown",
      "metadata": {
        "id": "view-in-github",
        "colab_type": "text"
      },
      "source": [
        "<a href=\"https://colab.research.google.com/github/NadunAnsanayaka/Assignment-Submission-Day-1/blob/main/minerals_assignment_group_07_final_final.ipynb\" target=\"_parent\"><img src=\"https://colab.research.google.com/assets/colab-badge.svg\" alt=\"Open In Colab\"/></a>"
      ]
    },
    {
      "cell_type": "markdown",
      "metadata": {
        "id": "cXSQzg13K0Yz"
      },
      "source": [
        "#### Import Libraries"
      ]
    },
    {
      "cell_type": "code",
      "execution_count": null,
      "metadata": {
        "id": "4opqj5MBK0Y6"
      },
      "outputs": [],
      "source": [
        "import numpy as np\n",
        "import pandas as pd\n",
        "import matplotlib.pyplot as plt\n",
        "%matplotlib inline\n",
        "import seaborn as sns\n",
        "\n",
        "\n",
        "##Metrics\n",
        "from math import sqrt\n",
        "from sklearn.metrics import mean_squared_error\n",
        "\n",
        "#Regressors\n",
        "from sklearn import neighbors\n",
        "from sklearn.neighbors import KNeighborsRegressor\n",
        "# https://scikit-learn.org/stable/modules/generated/sklearn.neighbors.KNeighborsRegressor.html"
      ]
    },
    {
      "cell_type": "code",
      "source": [
        "from google.colab import files\n",
        "uploaded = files.upload()"
      ],
      "metadata": {
        "colab": {
          "base_uri": "https://localhost:8080/",
          "height": 38
        },
        "id": "ymtpSM8MS2tM",
        "outputId": "1dcb651c-be67-488f-ebce-98f800895de1"
      },
      "execution_count": null,
      "outputs": [
        {
          "output_type": "display_data",
          "data": {
            "text/plain": [
              "<IPython.core.display.HTML object>"
            ],
            "text/html": [
              "\n",
              "     <input type=\"file\" id=\"files-92419807-1d23-436e-a384-7973c81234ae\" name=\"files[]\" multiple disabled\n",
              "        style=\"border:none\" />\n",
              "     <output id=\"result-92419807-1d23-436e-a384-7973c81234ae\">\n",
              "      Upload widget is only available when the cell has been executed in the\n",
              "      current browser session. Please rerun this cell to enable.\n",
              "      </output>\n",
              "      <script>// Copyright 2017 Google LLC\n",
              "//\n",
              "// Licensed under the Apache License, Version 2.0 (the \"License\");\n",
              "// you may not use this file except in compliance with the License.\n",
              "// You may obtain a copy of the License at\n",
              "//\n",
              "//      http://www.apache.org/licenses/LICENSE-2.0\n",
              "//\n",
              "// Unless required by applicable law or agreed to in writing, software\n",
              "// distributed under the License is distributed on an \"AS IS\" BASIS,\n",
              "// WITHOUT WARRANTIES OR CONDITIONS OF ANY KIND, either express or implied.\n",
              "// See the License for the specific language governing permissions and\n",
              "// limitations under the License.\n",
              "\n",
              "/**\n",
              " * @fileoverview Helpers for google.colab Python module.\n",
              " */\n",
              "(function(scope) {\n",
              "function span(text, styleAttributes = {}) {\n",
              "  const element = document.createElement('span');\n",
              "  element.textContent = text;\n",
              "  for (const key of Object.keys(styleAttributes)) {\n",
              "    element.style[key] = styleAttributes[key];\n",
              "  }\n",
              "  return element;\n",
              "}\n",
              "\n",
              "// Max number of bytes which will be uploaded at a time.\n",
              "const MAX_PAYLOAD_SIZE = 100 * 1024;\n",
              "\n",
              "function _uploadFiles(inputId, outputId) {\n",
              "  const steps = uploadFilesStep(inputId, outputId);\n",
              "  const outputElement = document.getElementById(outputId);\n",
              "  // Cache steps on the outputElement to make it available for the next call\n",
              "  // to uploadFilesContinue from Python.\n",
              "  outputElement.steps = steps;\n",
              "\n",
              "  return _uploadFilesContinue(outputId);\n",
              "}\n",
              "\n",
              "// This is roughly an async generator (not supported in the browser yet),\n",
              "// where there are multiple asynchronous steps and the Python side is going\n",
              "// to poll for completion of each step.\n",
              "// This uses a Promise to block the python side on completion of each step,\n",
              "// then passes the result of the previous step as the input to the next step.\n",
              "function _uploadFilesContinue(outputId) {\n",
              "  const outputElement = document.getElementById(outputId);\n",
              "  const steps = outputElement.steps;\n",
              "\n",
              "  const next = steps.next(outputElement.lastPromiseValue);\n",
              "  return Promise.resolve(next.value.promise).then((value) => {\n",
              "    // Cache the last promise value to make it available to the next\n",
              "    // step of the generator.\n",
              "    outputElement.lastPromiseValue = value;\n",
              "    return next.value.response;\n",
              "  });\n",
              "}\n",
              "\n",
              "/**\n",
              " * Generator function which is called between each async step of the upload\n",
              " * process.\n",
              " * @param {string} inputId Element ID of the input file picker element.\n",
              " * @param {string} outputId Element ID of the output display.\n",
              " * @return {!Iterable<!Object>} Iterable of next steps.\n",
              " */\n",
              "function* uploadFilesStep(inputId, outputId) {\n",
              "  const inputElement = document.getElementById(inputId);\n",
              "  inputElement.disabled = false;\n",
              "\n",
              "  const outputElement = document.getElementById(outputId);\n",
              "  outputElement.innerHTML = '';\n",
              "\n",
              "  const pickedPromise = new Promise((resolve) => {\n",
              "    inputElement.addEventListener('change', (e) => {\n",
              "      resolve(e.target.files);\n",
              "    });\n",
              "  });\n",
              "\n",
              "  const cancel = document.createElement('button');\n",
              "  inputElement.parentElement.appendChild(cancel);\n",
              "  cancel.textContent = 'Cancel upload';\n",
              "  const cancelPromise = new Promise((resolve) => {\n",
              "    cancel.onclick = () => {\n",
              "      resolve(null);\n",
              "    };\n",
              "  });\n",
              "\n",
              "  // Wait for the user to pick the files.\n",
              "  const files = yield {\n",
              "    promise: Promise.race([pickedPromise, cancelPromise]),\n",
              "    response: {\n",
              "      action: 'starting',\n",
              "    }\n",
              "  };\n",
              "\n",
              "  cancel.remove();\n",
              "\n",
              "  // Disable the input element since further picks are not allowed.\n",
              "  inputElement.disabled = true;\n",
              "\n",
              "  if (!files) {\n",
              "    return {\n",
              "      response: {\n",
              "        action: 'complete',\n",
              "      }\n",
              "    };\n",
              "  }\n",
              "\n",
              "  for (const file of files) {\n",
              "    const li = document.createElement('li');\n",
              "    li.append(span(file.name, {fontWeight: 'bold'}));\n",
              "    li.append(span(\n",
              "        `(${file.type || 'n/a'}) - ${file.size} bytes, ` +\n",
              "        `last modified: ${\n",
              "            file.lastModifiedDate ? file.lastModifiedDate.toLocaleDateString() :\n",
              "                                    'n/a'} - `));\n",
              "    const percent = span('0% done');\n",
              "    li.appendChild(percent);\n",
              "\n",
              "    outputElement.appendChild(li);\n",
              "\n",
              "    const fileDataPromise = new Promise((resolve) => {\n",
              "      const reader = new FileReader();\n",
              "      reader.onload = (e) => {\n",
              "        resolve(e.target.result);\n",
              "      };\n",
              "      reader.readAsArrayBuffer(file);\n",
              "    });\n",
              "    // Wait for the data to be ready.\n",
              "    let fileData = yield {\n",
              "      promise: fileDataPromise,\n",
              "      response: {\n",
              "        action: 'continue',\n",
              "      }\n",
              "    };\n",
              "\n",
              "    // Use a chunked sending to avoid message size limits. See b/62115660.\n",
              "    let position = 0;\n",
              "    do {\n",
              "      const length = Math.min(fileData.byteLength - position, MAX_PAYLOAD_SIZE);\n",
              "      const chunk = new Uint8Array(fileData, position, length);\n",
              "      position += length;\n",
              "\n",
              "      const base64 = btoa(String.fromCharCode.apply(null, chunk));\n",
              "      yield {\n",
              "        response: {\n",
              "          action: 'append',\n",
              "          file: file.name,\n",
              "          data: base64,\n",
              "        },\n",
              "      };\n",
              "\n",
              "      let percentDone = fileData.byteLength === 0 ?\n",
              "          100 :\n",
              "          Math.round((position / fileData.byteLength) * 100);\n",
              "      percent.textContent = `${percentDone}% done`;\n",
              "\n",
              "    } while (position < fileData.byteLength);\n",
              "  }\n",
              "\n",
              "  // All done.\n",
              "  yield {\n",
              "    response: {\n",
              "      action: 'complete',\n",
              "    }\n",
              "  };\n",
              "}\n",
              "\n",
              "scope.google = scope.google || {};\n",
              "scope.google.colab = scope.google.colab || {};\n",
              "scope.google.colab._files = {\n",
              "  _uploadFiles,\n",
              "  _uploadFilesContinue,\n",
              "};\n",
              "})(self);\n",
              "</script> "
            ]
          },
          "metadata": {}
        }
      ]
    },
    {
      "cell_type": "code",
      "execution_count": null,
      "metadata": {
        "id": "fBYiwGnNK0Y_"
      },
      "outputs": [],
      "source": [
        "# Read Data\n",
        "df = pd.read_csv(\"original_dataset.csv\")"
      ]
    },
    {
      "cell_type": "code",
      "execution_count": null,
      "metadata": {
        "colab": {
          "base_uri": "https://localhost:8080/",
          "height": 206
        },
        "id": "-dWMCxLtK0ZB",
        "outputId": "4264b4c2-8e64-4e08-ef29-8ee9642a7f15"
      },
      "outputs": [
        {
          "output_type": "execute_result",
          "data": {
            "text/plain": [
              "   InitialpH  Solid%  Inoculum%  Time(days)     Cu    Mo     Re\n",
              "0        1.6     3.0        5.0           0   0.00  0.00   0.00\n",
              "1        1.6     3.0        5.0           5  37.80  0.35   1.98\n",
              "2        1.6     3.0        5.0          10  40.59  0.51   8.43\n",
              "3        1.6     3.0        5.0          15  42.89  1.34   9.35\n",
              "4        1.6     3.0        5.0          20  42.89  2.26  10.45"
            ],
            "text/html": [
              "\n",
              "  <div id=\"df-88931df3-d33e-4069-bae9-1041bdb3c1c5\">\n",
              "    <div class=\"colab-df-container\">\n",
              "      <div>\n",
              "<style scoped>\n",
              "    .dataframe tbody tr th:only-of-type {\n",
              "        vertical-align: middle;\n",
              "    }\n",
              "\n",
              "    .dataframe tbody tr th {\n",
              "        vertical-align: top;\n",
              "    }\n",
              "\n",
              "    .dataframe thead th {\n",
              "        text-align: right;\n",
              "    }\n",
              "</style>\n",
              "<table border=\"1\" class=\"dataframe\">\n",
              "  <thead>\n",
              "    <tr style=\"text-align: right;\">\n",
              "      <th></th>\n",
              "      <th>InitialpH</th>\n",
              "      <th>Solid%</th>\n",
              "      <th>Inoculum%</th>\n",
              "      <th>Time(days)</th>\n",
              "      <th>Cu</th>\n",
              "      <th>Mo</th>\n",
              "      <th>Re</th>\n",
              "    </tr>\n",
              "  </thead>\n",
              "  <tbody>\n",
              "    <tr>\n",
              "      <th>0</th>\n",
              "      <td>1.6</td>\n",
              "      <td>3.0</td>\n",
              "      <td>5.0</td>\n",
              "      <td>0</td>\n",
              "      <td>0.00</td>\n",
              "      <td>0.00</td>\n",
              "      <td>0.00</td>\n",
              "    </tr>\n",
              "    <tr>\n",
              "      <th>1</th>\n",
              "      <td>1.6</td>\n",
              "      <td>3.0</td>\n",
              "      <td>5.0</td>\n",
              "      <td>5</td>\n",
              "      <td>37.80</td>\n",
              "      <td>0.35</td>\n",
              "      <td>1.98</td>\n",
              "    </tr>\n",
              "    <tr>\n",
              "      <th>2</th>\n",
              "      <td>1.6</td>\n",
              "      <td>3.0</td>\n",
              "      <td>5.0</td>\n",
              "      <td>10</td>\n",
              "      <td>40.59</td>\n",
              "      <td>0.51</td>\n",
              "      <td>8.43</td>\n",
              "    </tr>\n",
              "    <tr>\n",
              "      <th>3</th>\n",
              "      <td>1.6</td>\n",
              "      <td>3.0</td>\n",
              "      <td>5.0</td>\n",
              "      <td>15</td>\n",
              "      <td>42.89</td>\n",
              "      <td>1.34</td>\n",
              "      <td>9.35</td>\n",
              "    </tr>\n",
              "    <tr>\n",
              "      <th>4</th>\n",
              "      <td>1.6</td>\n",
              "      <td>3.0</td>\n",
              "      <td>5.0</td>\n",
              "      <td>20</td>\n",
              "      <td>42.89</td>\n",
              "      <td>2.26</td>\n",
              "      <td>10.45</td>\n",
              "    </tr>\n",
              "  </tbody>\n",
              "</table>\n",
              "</div>\n",
              "      <button class=\"colab-df-convert\" onclick=\"convertToInteractive('df-88931df3-d33e-4069-bae9-1041bdb3c1c5')\"\n",
              "              title=\"Convert this dataframe to an interactive table.\"\n",
              "              style=\"display:none;\">\n",
              "        \n",
              "  <svg xmlns=\"http://www.w3.org/2000/svg\" height=\"24px\"viewBox=\"0 0 24 24\"\n",
              "       width=\"24px\">\n",
              "    <path d=\"M0 0h24v24H0V0z\" fill=\"none\"/>\n",
              "    <path d=\"M18.56 5.44l.94 2.06.94-2.06 2.06-.94-2.06-.94-.94-2.06-.94 2.06-2.06.94zm-11 1L8.5 8.5l.94-2.06 2.06-.94-2.06-.94L8.5 2.5l-.94 2.06-2.06.94zm10 10l.94 2.06.94-2.06 2.06-.94-2.06-.94-.94-2.06-.94 2.06-2.06.94z\"/><path d=\"M17.41 7.96l-1.37-1.37c-.4-.4-.92-.59-1.43-.59-.52 0-1.04.2-1.43.59L10.3 9.45l-7.72 7.72c-.78.78-.78 2.05 0 2.83L4 21.41c.39.39.9.59 1.41.59.51 0 1.02-.2 1.41-.59l7.78-7.78 2.81-2.81c.8-.78.8-2.07 0-2.86zM5.41 20L4 18.59l7.72-7.72 1.47 1.35L5.41 20z\"/>\n",
              "  </svg>\n",
              "      </button>\n",
              "      \n",
              "  <style>\n",
              "    .colab-df-container {\n",
              "      display:flex;\n",
              "      flex-wrap:wrap;\n",
              "      gap: 12px;\n",
              "    }\n",
              "\n",
              "    .colab-df-convert {\n",
              "      background-color: #E8F0FE;\n",
              "      border: none;\n",
              "      border-radius: 50%;\n",
              "      cursor: pointer;\n",
              "      display: none;\n",
              "      fill: #1967D2;\n",
              "      height: 32px;\n",
              "      padding: 0 0 0 0;\n",
              "      width: 32px;\n",
              "    }\n",
              "\n",
              "    .colab-df-convert:hover {\n",
              "      background-color: #E2EBFA;\n",
              "      box-shadow: 0px 1px 2px rgba(60, 64, 67, 0.3), 0px 1px 3px 1px rgba(60, 64, 67, 0.15);\n",
              "      fill: #174EA6;\n",
              "    }\n",
              "\n",
              "    [theme=dark] .colab-df-convert {\n",
              "      background-color: #3B4455;\n",
              "      fill: #D2E3FC;\n",
              "    }\n",
              "\n",
              "    [theme=dark] .colab-df-convert:hover {\n",
              "      background-color: #434B5C;\n",
              "      box-shadow: 0px 1px 3px 1px rgba(0, 0, 0, 0.15);\n",
              "      filter: drop-shadow(0px 1px 2px rgba(0, 0, 0, 0.3));\n",
              "      fill: #FFFFFF;\n",
              "    }\n",
              "  </style>\n",
              "\n",
              "      <script>\n",
              "        const buttonEl =\n",
              "          document.querySelector('#df-88931df3-d33e-4069-bae9-1041bdb3c1c5 button.colab-df-convert');\n",
              "        buttonEl.style.display =\n",
              "          google.colab.kernel.accessAllowed ? 'block' : 'none';\n",
              "\n",
              "        async function convertToInteractive(key) {\n",
              "          const element = document.querySelector('#df-88931df3-d33e-4069-bae9-1041bdb3c1c5');\n",
              "          const dataTable =\n",
              "            await google.colab.kernel.invokeFunction('convertToInteractive',\n",
              "                                                     [key], {});\n",
              "          if (!dataTable) return;\n",
              "\n",
              "          const docLinkHtml = 'Like what you see? Visit the ' +\n",
              "            '<a target=\"_blank\" href=https://colab.research.google.com/notebooks/data_table.ipynb>data table notebook</a>'\n",
              "            + ' to learn more about interactive tables.';\n",
              "          element.innerHTML = '';\n",
              "          dataTable['output_type'] = 'display_data';\n",
              "          await google.colab.output.renderOutput(dataTable, element);\n",
              "          const docLink = document.createElement('div');\n",
              "          docLink.innerHTML = docLinkHtml;\n",
              "          element.appendChild(docLink);\n",
              "        }\n",
              "      </script>\n",
              "    </div>\n",
              "  </div>\n",
              "  "
            ]
          },
          "metadata": {},
          "execution_count": 9
        }
      ],
      "source": [
        "# Reads first 5 rows of the data\n",
        "df.head(5)"
      ]
    },
    {
      "cell_type": "code",
      "execution_count": null,
      "metadata": {
        "colab": {
          "base_uri": "https://localhost:8080/"
        },
        "id": "ZwnYKLBNK0ZD",
        "outputId": "7993b046-c4ff-4728-b28d-2eeda9b13b34"
      },
      "outputs": [
        {
          "output_type": "stream",
          "name": "stdout",
          "text": [
            "<class 'pandas.core.frame.DataFrame'>\n",
            "RangeIndex: 105 entries, 0 to 104\n",
            "Data columns (total 7 columns):\n",
            " #   Column      Non-Null Count  Dtype  \n",
            "---  ------      --------------  -----  \n",
            " 0   InitialpH   105 non-null    float64\n",
            " 1   Solid%      105 non-null    float64\n",
            " 2   Inoculum%   105 non-null    float64\n",
            " 3   Time(days)  105 non-null    int64  \n",
            " 4   Cu          105 non-null    float64\n",
            " 5   Mo          105 non-null    float64\n",
            " 6   Re          105 non-null    float64\n",
            "dtypes: float64(6), int64(1)\n",
            "memory usage: 5.9 KB\n"
          ]
        }
      ],
      "source": [
        "df.info()"
      ]
    },
    {
      "cell_type": "code",
      "execution_count": null,
      "metadata": {
        "colab": {
          "base_uri": "https://localhost:8080/"
        },
        "id": "HlWIGNOqK0ZF",
        "outputId": "75cd9d1a-c322-4c14-f5a9-f9d921cf3e9a"
      },
      "outputs": [
        {
          "output_type": "execute_result",
          "data": {
            "text/plain": [
              "InitialpH     0\n",
              "Solid%        0\n",
              "Inoculum%     0\n",
              "Time(days)    0\n",
              "Cu            0\n",
              "Mo            0\n",
              "Re            0\n",
              "dtype: int64"
            ]
          },
          "metadata": {},
          "execution_count": 11
        }
      ],
      "source": [
        "# checking for null values\n",
        "df.isnull().sum()"
      ]
    },
    {
      "cell_type": "markdown",
      "metadata": {
        "id": "epic8MYYK0ZG"
      },
      "source": [
        "#### Exploratory Data Analysis"
      ]
    },
    {
      "cell_type": "code",
      "execution_count": null,
      "metadata": {
        "colab": {
          "base_uri": "https://localhost:8080/",
          "height": 1000
        },
        "id": "oMGbcvz_K0ZH",
        "outputId": "137837f2-b66e-4753-8e38-22a8a914340e"
      },
      "outputs": [
        {
          "output_type": "execute_result",
          "data": {
            "text/plain": [
              "array([[<matplotlib.axes._subplots.AxesSubplot object at 0x7f617e3377f0>,\n",
              "        <matplotlib.axes._subplots.AxesSubplot object at 0x7f617e30fc40>,\n",
              "        <matplotlib.axes._subplots.AxesSubplot object at 0x7f617e2bf100>],\n",
              "       [<matplotlib.axes._subplots.AxesSubplot object at 0x7f617e279490>,\n",
              "        <matplotlib.axes._subplots.AxesSubplot object at 0x7f617e2865e0>,\n",
              "        <matplotlib.axes._subplots.AxesSubplot object at 0x7f617e250910>],\n",
              "       [<matplotlib.axes._subplots.AxesSubplot object at 0x7f617e250a00>,\n",
              "        <matplotlib.axes._subplots.AxesSubplot object at 0x7f617e1ba220>,\n",
              "        <matplotlib.axes._subplots.AxesSubplot object at 0x7f617e1d9700>],\n",
              "       [<matplotlib.axes._subplots.AxesSubplot object at 0x7f617e185b20>,\n",
              "        <matplotlib.axes._subplots.AxesSubplot object at 0x7f617e133f40>,\n",
              "        <matplotlib.axes._subplots.AxesSubplot object at 0x7f617e0ec370>],\n",
              "       [<matplotlib.axes._subplots.AxesSubplot object at 0x7f617e119760>,\n",
              "        <matplotlib.axes._subplots.AxesSubplot object at 0x7f617e0c6b50>,\n",
              "        <matplotlib.axes._subplots.AxesSubplot object at 0x7f617e075f40>],\n",
              "       [<matplotlib.axes._subplots.AxesSubplot object at 0x7f617e02d3a0>,\n",
              "        <matplotlib.axes._subplots.AxesSubplot object at 0x7f617e0597c0>,\n",
              "        <matplotlib.axes._subplots.AxesSubplot object at 0x7f617e006bb0>],\n",
              "       [<matplotlib.axes._subplots.AxesSubplot object at 0x7f617dfb7fa0>,\n",
              "        <matplotlib.axes._subplots.AxesSubplot object at 0x7f617df6f3d0>,\n",
              "        <matplotlib.axes._subplots.AxesSubplot object at 0x7f617df1e7c0>]],\n",
              "      dtype=object)"
            ]
          },
          "metadata": {},
          "execution_count": 12
        },
        {
          "output_type": "display_data",
          "data": {
            "text/plain": [
              "<Figure size 1080x2160 with 21 Axes>"
            ],
            "image/png": "[encoded data removed]"
          },
          "metadata": {
            "needs_background": "light"
          }
        }
      ],
      "source": [
        "df.hist(figsize=(15,30),layout=(7,3),bins=50)"
      ]
    },
    {
      "cell_type": "code",
      "execution_count": null,
      "metadata": {
        "colab": {
          "base_uri": "https://localhost:8080/"
        },
        "id": "-TDaC7MXK0ZI",
        "outputId": "c4967a71-795b-43ef-f7a0-bd9c34885884"
      },
      "outputs": [
        {
          "output_type": "stream",
          "name": "stdout",
          "text": [
            "[1.6  2.   1.46 2.14 1.8 ]\n",
            "[ 3.    9.    6.    0.95 11.05]\n",
            "[ 5.   15.   10.    1.59 18.41]\n",
            "[ 0  5 10 15 20 25 30]\n"
          ]
        }
      ],
      "source": [
        "print(df['InitialpH'].unique())\n",
        "print(df['Solid%'].unique())\n",
        "print(df['Inoculum%'].unique())\n",
        "print(df['Time(days)'].unique())"
      ]
    },
    {
      "cell_type": "code",
      "source": [
        "# Let's see the possible best variables for modeling the carat\n",
        "sns.pairplot(df)  "
      ],
      "metadata": {
        "colab": {
          "base_uri": "https://localhost:8080/",
          "height": 1000
        },
        "id": "8UKP9qH8vmi6",
        "outputId": "3bf73f2b-3159-4c4f-d122-317cdffd4e1c"
      },
      "execution_count": null,
      "outputs": [
        {
          "output_type": "execute_result",
          "data": {
            "text/plain": [
              "<seaborn.axisgrid.PairGrid at 0x7f6190e67100>"
            ]
          },
          "metadata": {},
          "execution_count": 14
        },
        {
          "output_type": "display_data",
          "data": {
            "text/plain": [
              "<Figure size 1260x1260 with 56 Axes>"
            ],
            "image/png": "[encoded data removed]"
          },
          "metadata": {
            "needs_background": "light"
          }
        }
      ]
    },
    {
      "cell_type": "code",
      "execution_count": null,
      "metadata": {
        "colab": {
          "base_uri": "https://localhost:8080/",
          "height": 269
        },
        "id": "PUOCYr6pK0ZM",
        "outputId": "54d6eb7a-691d-4912-f4da-ec75a21ce6cd"
      },
      "outputs": [
        {
          "output_type": "execute_result",
          "data": {
            "text/plain": [
              "<pandas.io.formats.style.Styler at 0x7f6179ce39a0>"
            ],
            "text/html": [
              "<style type=\"text/css\">\n",
              "#T_8f088_row0_col0, #T_8f088_row1_col1, #T_8f088_row2_col2, #T_8f088_row3_col3, #T_8f088_row4_col4, #T_8f088_row5_col5, #T_8f088_row6_col6 {\n",
              "  background-color: #08306b;\n",
              "  color: #f1f1f1;\n",
              "}\n",
              "#T_8f088_row0_col1, #T_8f088_row2_col1, #T_8f088_row3_col1 {\n",
              "  background-color: #bad6eb;\n",
              "  color: #000000;\n",
              "}\n",
              "#T_8f088_row0_col2, #T_8f088_row1_col2, #T_8f088_row2_col4, #T_8f088_row3_col2 {\n",
              "  background-color: #dfecf7;\n",
              "  color: #000000;\n",
              "}\n",
              "#T_8f088_row0_col3, #T_8f088_row1_col3, #T_8f088_row1_col4, #T_8f088_row1_col5, #T_8f088_row1_col6, #T_8f088_row2_col3, #T_8f088_row5_col0, #T_8f088_row6_col1, #T_8f088_row6_col2 {\n",
              "  background-color: #f7fbff;\n",
              "  color: #000000;\n",
              "}\n",
              "#T_8f088_row0_col4 {\n",
              "  background-color: #d9e8f5;\n",
              "  color: #000000;\n",
              "}\n",
              "#T_8f088_row0_col5 {\n",
              "  background-color: #f6faff;\n",
              "  color: #000000;\n",
              "}\n",
              "#T_8f088_row0_col6 {\n",
              "  background-color: #cde0f1;\n",
              "  color: #000000;\n",
              "}\n",
              "#T_8f088_row1_col0, #T_8f088_row2_col0, #T_8f088_row3_col0 {\n",
              "  background-color: #dfebf7;\n",
              "  color: #000000;\n",
              "}\n",
              "#T_8f088_row2_col5 {\n",
              "  background-color: #eef5fc;\n",
              "  color: #000000;\n",
              "}\n",
              "#T_8f088_row2_col6 {\n",
              "  background-color: #d2e3f3;\n",
              "  color: #000000;\n",
              "}\n",
              "#T_8f088_row3_col4 {\n",
              "  background-color: #2575b7;\n",
              "  color: #f1f1f1;\n",
              "}\n",
              "#T_8f088_row3_col5 {\n",
              "  background-color: #1966ad;\n",
              "  color: #f1f1f1;\n",
              "}\n",
              "#T_8f088_row3_col6 {\n",
              "  background-color: #1d6cb1;\n",
              "  color: #f1f1f1;\n",
              "}\n",
              "#T_8f088_row4_col0 {\n",
              "  background-color: #dce9f6;\n",
              "  color: #000000;\n",
              "}\n",
              "#T_8f088_row4_col1 {\n",
              "  background-color: #d4e4f4;\n",
              "  color: #000000;\n",
              "}\n",
              "#T_8f088_row4_col2 {\n",
              "  background-color: #e3eef8;\n",
              "  color: #000000;\n",
              "}\n",
              "#T_8f088_row4_col3 {\n",
              "  background-color: #3080bd;\n",
              "  color: #f1f1f1;\n",
              "}\n",
              "#T_8f088_row4_col5 {\n",
              "  background-color: #4f9bcb;\n",
              "  color: #f1f1f1;\n",
              "}\n",
              "#T_8f088_row4_col6 {\n",
              "  background-color: #3888c1;\n",
              "  color: #f1f1f1;\n",
              "}\n",
              "#T_8f088_row5_col1 {\n",
              "  background-color: #d3e4f3;\n",
              "  color: #000000;\n",
              "}\n",
              "#T_8f088_row5_col2 {\n",
              "  background-color: #eff6fc;\n",
              "  color: #000000;\n",
              "}\n",
              "#T_8f088_row5_col3 {\n",
              "  background-color: #1e6db2;\n",
              "  color: #f1f1f1;\n",
              "}\n",
              "#T_8f088_row5_col4 {\n",
              "  background-color: #4e9acb;\n",
              "  color: #f1f1f1;\n",
              "}\n",
              "#T_8f088_row5_col6 {\n",
              "  background-color: #084f99;\n",
              "  color: #f1f1f1;\n",
              "}\n",
              "#T_8f088_row6_col0 {\n",
              "  background-color: #f1f7fd;\n",
              "  color: #000000;\n",
              "}\n",
              "#T_8f088_row6_col3 {\n",
              "  background-color: #3585bf;\n",
              "  color: #f1f1f1;\n",
              "}\n",
              "#T_8f088_row6_col4 {\n",
              "  background-color: #4d99ca;\n",
              "  color: #f1f1f1;\n",
              "}\n",
              "#T_8f088_row6_col5 {\n",
              "  background-color: #0c56a0;\n",
              "  color: #f1f1f1;\n",
              "}\n",
              "</style>\n",
              "<table id=\"T_8f088_\" class=\"dataframe\">\n",
              "  <thead>\n",
              "    <tr>\n",
              "      <th class=\"blank level0\" >&nbsp;</th>\n",
              "      <th class=\"col_heading level0 col0\" >InitialpH</th>\n",
              "      <th class=\"col_heading level0 col1\" >Solid%</th>\n",
              "      <th class=\"col_heading level0 col2\" >Inoculum%</th>\n",
              "      <th class=\"col_heading level0 col3\" >Time(days)</th>\n",
              "      <th class=\"col_heading level0 col4\" >Cu</th>\n",
              "      <th class=\"col_heading level0 col5\" >Mo</th>\n",
              "      <th class=\"col_heading level0 col6\" >Re</th>\n",
              "    </tr>\n",
              "  </thead>\n",
              "  <tbody>\n",
              "    <tr>\n",
              "      <th id=\"T_8f088_level0_row0\" class=\"row_heading level0 row0\" >InitialpH</th>\n",
              "      <td id=\"T_8f088_row0_col0\" class=\"data row0 col0\" >1.000000</td>\n",
              "      <td id=\"T_8f088_row0_col1\" class=\"data row0 col1\" >0.000000</td>\n",
              "      <td id=\"T_8f088_row0_col2\" class=\"data row0 col2\" >-0.000000</td>\n",
              "      <td id=\"T_8f088_row0_col3\" class=\"data row0 col3\" >0.000000</td>\n",
              "      <td id=\"T_8f088_row0_col4\" class=\"data row0 col4\" >0.018230</td>\n",
              "      <td id=\"T_8f088_row0_col5\" class=\"data row0 col5\" >-0.140320</td>\n",
              "      <td id=\"T_8f088_row0_col6\" class=\"data row0 col6\" >-0.103391</td>\n",
              "    </tr>\n",
              "    <tr>\n",
              "      <th id=\"T_8f088_level0_row1\" class=\"row_heading level0 row1\" >Solid%</th>\n",
              "      <td id=\"T_8f088_row1_col0\" class=\"data row1 col0\" >0.000000</td>\n",
              "      <td id=\"T_8f088_row1_col1\" class=\"data row1 col1\" >1.000000</td>\n",
              "      <td id=\"T_8f088_row1_col2\" class=\"data row1 col2\" >-0.000000</td>\n",
              "      <td id=\"T_8f088_row1_col3\" class=\"data row1 col3\" >-0.000000</td>\n",
              "      <td id=\"T_8f088_row1_col4\" class=\"data row1 col4\" >-0.153256</td>\n",
              "      <td id=\"T_8f088_row1_col5\" class=\"data row1 col5\" >-0.145281</td>\n",
              "      <td id=\"T_8f088_row1_col6\" class=\"data row1 col6\" >-0.399236</td>\n",
              "    </tr>\n",
              "    <tr>\n",
              "      <th id=\"T_8f088_level0_row2\" class=\"row_heading level0 row2\" >Inoculum%</th>\n",
              "      <td id=\"T_8f088_row2_col0\" class=\"data row2 col0\" >-0.000000</td>\n",
              "      <td id=\"T_8f088_row2_col1\" class=\"data row2 col1\" >-0.000000</td>\n",
              "      <td id=\"T_8f088_row2_col2\" class=\"data row2 col2\" >1.000000</td>\n",
              "      <td id=\"T_8f088_row2_col3\" class=\"data row2 col3\" >0.000000</td>\n",
              "      <td id=\"T_8f088_row2_col4\" class=\"data row2 col4\" >-0.016603</td>\n",
              "      <td id=\"T_8f088_row2_col5\" class=\"data row2 col5\" >-0.087326</td>\n",
              "      <td id=\"T_8f088_row2_col6\" class=\"data row2 col6\" >-0.133108</td>\n",
              "    </tr>\n",
              "    <tr>\n",
              "      <th id=\"T_8f088_level0_row3\" class=\"row_heading level0 row3\" >Time(days)</th>\n",
              "      <td id=\"T_8f088_row3_col0\" class=\"data row3 col0\" >0.000000</td>\n",
              "      <td id=\"T_8f088_row3_col1\" class=\"data row3 col1\" >-0.000000</td>\n",
              "      <td id=\"T_8f088_row3_col2\" class=\"data row3 col2\" >0.000000</td>\n",
              "      <td id=\"T_8f088_row3_col3\" class=\"data row3 col3\" >1.000000</td>\n",
              "      <td id=\"T_8f088_row3_col4\" class=\"data row3 col4\" >0.691440</td>\n",
              "      <td id=\"T_8f088_row3_col5\" class=\"data row3 col5\" >0.761875</td>\n",
              "      <td id=\"T_8f088_row3_col6\" class=\"data row3 col6\" >0.675640</td>\n",
              "    </tr>\n",
              "    <tr>\n",
              "      <th id=\"T_8f088_level0_row4\" class=\"row_heading level0 row4\" >Cu</th>\n",
              "      <td id=\"T_8f088_row4_col0\" class=\"data row4 col0\" >0.018230</td>\n",
              "      <td id=\"T_8f088_row4_col1\" class=\"data row4 col1\" >-0.153256</td>\n",
              "      <td id=\"T_8f088_row4_col2\" class=\"data row4 col2\" >-0.016603</td>\n",
              "      <td id=\"T_8f088_row4_col3\" class=\"data row4 col3\" >0.691440</td>\n",
              "      <td id=\"T_8f088_row4_col4\" class=\"data row4 col4\" >1.000000</td>\n",
              "      <td id=\"T_8f088_row4_col5\" class=\"data row4 col5\" >0.525574</td>\n",
              "      <td id=\"T_8f088_row4_col6\" class=\"data row4 col6\" >0.529080</td>\n",
              "    </tr>\n",
              "    <tr>\n",
              "      <th id=\"T_8f088_level0_row5\" class=\"row_heading level0 row5\" >Mo</th>\n",
              "      <td id=\"T_8f088_row5_col0\" class=\"data row5 col0\" >-0.140320</td>\n",
              "      <td id=\"T_8f088_row5_col1\" class=\"data row5 col1\" >-0.145281</td>\n",
              "      <td id=\"T_8f088_row5_col2\" class=\"data row5 col2\" >-0.087326</td>\n",
              "      <td id=\"T_8f088_row5_col3\" class=\"data row5 col3\" >0.761875</td>\n",
              "      <td id=\"T_8f088_row5_col4\" class=\"data row5 col4\" >0.525574</td>\n",
              "      <td id=\"T_8f088_row5_col5\" class=\"data row5 col5\" >1.000000</td>\n",
              "      <td id=\"T_8f088_row5_col6\" class=\"data row5 col6\" >0.832898</td>\n",
              "    </tr>\n",
              "    <tr>\n",
              "      <th id=\"T_8f088_level0_row6\" class=\"row_heading level0 row6\" >Re</th>\n",
              "      <td id=\"T_8f088_row6_col0\" class=\"data row6 col0\" >-0.103391</td>\n",
              "      <td id=\"T_8f088_row6_col1\" class=\"data row6 col1\" >-0.399236</td>\n",
              "      <td id=\"T_8f088_row6_col2\" class=\"data row6 col2\" >-0.133108</td>\n",
              "      <td id=\"T_8f088_row6_col3\" class=\"data row6 col3\" >0.675640</td>\n",
              "      <td id=\"T_8f088_row6_col4\" class=\"data row6 col4\" >0.529080</td>\n",
              "      <td id=\"T_8f088_row6_col5\" class=\"data row6 col5\" >0.832898</td>\n",
              "      <td id=\"T_8f088_row6_col6\" class=\"data row6 col6\" >1.000000</td>\n",
              "    </tr>\n",
              "  </tbody>\n",
              "</table>\n"
            ]
          },
          "metadata": {},
          "execution_count": 15
        }
      ],
      "source": [
        "#  Measure the strength of the linear relationship between two variables\n",
        "df.corr().style.background_gradient(cmap=\"Blues\")"
      ]
    },
    {
      "cell_type": "code",
      "execution_count": null,
      "metadata": {
        "colab": {
          "base_uri": "https://localhost:8080/",
          "height": 300
        },
        "id": "0BJeqd_iK0ZN",
        "outputId": "dfee1883-f1cd-4d48-82a5-71eddcbf1601"
      },
      "outputs": [
        {
          "output_type": "execute_result",
          "data": {
            "text/plain": [
              "        InitialpH      Solid%  Inoculum%  Time(days)          Cu          Mo  \\\n",
              "count  105.000000  105.000000  105.00000  105.000000  105.000000  105.000000   \n",
              "mean     1.800000    6.000000   10.00000   15.000000   38.629619    0.813429   \n",
              "std      0.192614    2.877357    4.79402   10.047962   16.577054    0.648056   \n",
              "min      1.460000    0.950000    1.59000    0.000000    0.000000    0.000000   \n",
              "25%      1.600000    3.000000    5.00000    5.000000   40.530000    0.250000   \n",
              "50%      1.800000    6.000000   10.00000   15.000000   43.680000    0.780000   \n",
              "75%      2.000000    9.000000   15.00000   25.000000   46.610000    1.170000   \n",
              "max      2.140000   11.050000   18.41000   30.000000   66.770000    2.560000   \n",
              "\n",
              "               Re  \n",
              "count  105.000000  \n",
              "mean     4.076667  \n",
              "std      3.668650  \n",
              "min      0.000000  \n",
              "25%      1.860000  \n",
              "50%      3.060000  \n",
              "75%      5.830000  \n",
              "max     19.100000  "
            ],
            "text/html": [
              "\n",
              "  <div id=\"df-2900af66-ac84-48a3-b4bb-207e6ef4bc78\">\n",
              "    <div class=\"colab-df-container\">\n",
              "      <div>\n",
              "<style scoped>\n",
              "    .dataframe tbody tr th:only-of-type {\n",
              "        vertical-align: middle;\n",
              "    }\n",
              "\n",
              "    .dataframe tbody tr th {\n",
              "        vertical-align: top;\n",
              "    }\n",
              "\n",
              "    .dataframe thead th {\n",
              "        text-align: right;\n",
              "    }\n",
              "</style>\n",
              "<table border=\"1\" class=\"dataframe\">\n",
              "  <thead>\n",
              "    <tr style=\"text-align: right;\">\n",
              "      <th></th>\n",
              "      <th>InitialpH</th>\n",
              "      <th>Solid%</th>\n",
              "      <th>Inoculum%</th>\n",
              "      <th>Time(days)</th>\n",
              "      <th>Cu</th>\n",
              "      <th>Mo</th>\n",
              "      <th>Re</th>\n",
              "    </tr>\n",
              "  </thead>\n",
              "  <tbody>\n",
              "    <tr>\n",
              "      <th>count</th>\n",
              "      <td>105.000000</td>\n",
              "      <td>105.000000</td>\n",
              "      <td>105.00000</td>\n",
              "      <td>105.000000</td>\n",
              "      <td>105.000000</td>\n",
              "      <td>105.000000</td>\n",
              "      <td>105.000000</td>\n",
              "    </tr>\n",
              "    <tr>\n",
              "      <th>mean</th>\n",
              "      <td>1.800000</td>\n",
              "      <td>6.000000</td>\n",
              "      <td>10.00000</td>\n",
              "      <td>15.000000</td>\n",
              "      <td>38.629619</td>\n",
              "      <td>0.813429</td>\n",
              "      <td>4.076667</td>\n",
              "    </tr>\n",
              "    <tr>\n",
              "      <th>std</th>\n",
              "      <td>0.192614</td>\n",
              "      <td>2.877357</td>\n",
              "      <td>4.79402</td>\n",
              "      <td>10.047962</td>\n",
              "      <td>16.577054</td>\n",
              "      <td>0.648056</td>\n",
              "      <td>3.668650</td>\n",
              "    </tr>\n",
              "    <tr>\n",
              "      <th>min</th>\n",
              "      <td>1.460000</td>\n",
              "      <td>0.950000</td>\n",
              "      <td>1.59000</td>\n",
              "      <td>0.000000</td>\n",
              "      <td>0.000000</td>\n",
              "      <td>0.000000</td>\n",
              "      <td>0.000000</td>\n",
              "    </tr>\n",
              "    <tr>\n",
              "      <th>25%</th>\n",
              "      <td>1.600000</td>\n",
              "      <td>3.000000</td>\n",
              "      <td>5.00000</td>\n",
              "      <td>5.000000</td>\n",
              "      <td>40.530000</td>\n",
              "      <td>0.250000</td>\n",
              "      <td>1.860000</td>\n",
              "    </tr>\n",
              "    <tr>\n",
              "      <th>50%</th>\n",
              "      <td>1.800000</td>\n",
              "      <td>6.000000</td>\n",
              "      <td>10.00000</td>\n",
              "      <td>15.000000</td>\n",
              "      <td>43.680000</td>\n",
              "      <td>0.780000</td>\n",
              "      <td>3.060000</td>\n",
              "    </tr>\n",
              "    <tr>\n",
              "      <th>75%</th>\n",
              "      <td>2.000000</td>\n",
              "      <td>9.000000</td>\n",
              "      <td>15.00000</td>\n",
              "      <td>25.000000</td>\n",
              "      <td>46.610000</td>\n",
              "      <td>1.170000</td>\n",
              "      <td>5.830000</td>\n",
              "    </tr>\n",
              "    <tr>\n",
              "      <th>max</th>\n",
              "      <td>2.140000</td>\n",
              "      <td>11.050000</td>\n",
              "      <td>18.41000</td>\n",
              "      <td>30.000000</td>\n",
              "      <td>66.770000</td>\n",
              "      <td>2.560000</td>\n",
              "      <td>19.100000</td>\n",
              "    </tr>\n",
              "  </tbody>\n",
              "</table>\n",
              "</div>\n",
              "      <button class=\"colab-df-convert\" onclick=\"convertToInteractive('df-2900af66-ac84-48a3-b4bb-207e6ef4bc78')\"\n",
              "              title=\"Convert this dataframe to an interactive table.\"\n",
              "              style=\"display:none;\">\n",
              "        \n",
              "  <svg xmlns=\"http://www.w3.org/2000/svg\" height=\"24px\"viewBox=\"0 0 24 24\"\n",
              "       width=\"24px\">\n",
              "    <path d=\"M0 0h24v24H0V0z\" fill=\"none\"/>\n",
              "    <path d=\"M18.56 5.44l.94 2.06.94-2.06 2.06-.94-2.06-.94-.94-2.06-.94 2.06-2.06.94zm-11 1L8.5 8.5l.94-2.06 2.06-.94-2.06-.94L8.5 2.5l-.94 2.06-2.06.94zm10 10l.94 2.06.94-2.06 2.06-.94-2.06-.94-.94-2.06-.94 2.06-2.06.94z\"/><path d=\"M17.41 7.96l-1.37-1.37c-.4-.4-.92-.59-1.43-.59-.52 0-1.04.2-1.43.59L10.3 9.45l-7.72 7.72c-.78.78-.78 2.05 0 2.83L4 21.41c.39.39.9.59 1.41.59.51 0 1.02-.2 1.41-.59l7.78-7.78 2.81-2.81c.8-.78.8-2.07 0-2.86zM5.41 20L4 18.59l7.72-7.72 1.47 1.35L5.41 20z\"/>\n",
              "  </svg>\n",
              "      </button>\n",
              "      \n",
              "  <style>\n",
              "    .colab-df-container {\n",
              "      display:flex;\n",
              "      flex-wrap:wrap;\n",
              "      gap: 12px;\n",
              "    }\n",
              "\n",
              "    .colab-df-convert {\n",
              "      background-color: #E8F0FE;\n",
              "      border: none;\n",
              "      border-radius: 50%;\n",
              "      cursor: pointer;\n",
              "      display: none;\n",
              "      fill: #1967D2;\n",
              "      height: 32px;\n",
              "      padding: 0 0 0 0;\n",
              "      width: 32px;\n",
              "    }\n",
              "\n",
              "    .colab-df-convert:hover {\n",
              "      background-color: #E2EBFA;\n",
              "      box-shadow: 0px 1px 2px rgba(60, 64, 67, 0.3), 0px 1px 3px 1px rgba(60, 64, 67, 0.15);\n",
              "      fill: #174EA6;\n",
              "    }\n",
              "\n",
              "    [theme=dark] .colab-df-convert {\n",
              "      background-color: #3B4455;\n",
              "      fill: #D2E3FC;\n",
              "    }\n",
              "\n",
              "    [theme=dark] .colab-df-convert:hover {\n",
              "      background-color: #434B5C;\n",
              "      box-shadow: 0px 1px 3px 1px rgba(0, 0, 0, 0.15);\n",
              "      filter: drop-shadow(0px 1px 2px rgba(0, 0, 0, 0.3));\n",
              "      fill: #FFFFFF;\n",
              "    }\n",
              "  </style>\n",
              "\n",
              "      <script>\n",
              "        const buttonEl =\n",
              "          document.querySelector('#df-2900af66-ac84-48a3-b4bb-207e6ef4bc78 button.colab-df-convert');\n",
              "        buttonEl.style.display =\n",
              "          google.colab.kernel.accessAllowed ? 'block' : 'none';\n",
              "\n",
              "        async function convertToInteractive(key) {\n",
              "          const element = document.querySelector('#df-2900af66-ac84-48a3-b4bb-207e6ef4bc78');\n",
              "          const dataTable =\n",
              "            await google.colab.kernel.invokeFunction('convertToInteractive',\n",
              "                                                     [key], {});\n",
              "          if (!dataTable) return;\n",
              "\n",
              "          const docLinkHtml = 'Like what you see? Visit the ' +\n",
              "            '<a target=\"_blank\" href=https://colab.research.google.com/notebooks/data_table.ipynb>data table notebook</a>'\n",
              "            + ' to learn more about interactive tables.';\n",
              "          element.innerHTML = '';\n",
              "          dataTable['output_type'] = 'display_data';\n",
              "          await google.colab.output.renderOutput(dataTable, element);\n",
              "          const docLink = document.createElement('div');\n",
              "          docLink.innerHTML = docLinkHtml;\n",
              "          element.appendChild(docLink);\n",
              "        }\n",
              "      </script>\n",
              "    </div>\n",
              "  </div>\n",
              "  "
            ]
          },
          "metadata": {},
          "execution_count": 16
        }
      ],
      "source": [
        "# Generate descriptive statistics.\n",
        "df.describe()"
      ]
    },
    {
      "cell_type": "markdown",
      "metadata": {
        "id": "mT82sc5iK0ZO"
      },
      "source": [
        "All variables are numerical variables, enconding is not required. \n",
        "Maximum Cu, Mo, Re extractions are 66.7%, 2.56%, 19.1% sequentially. \n",
        "\n"
      ]
    },
    {
      "cell_type": "markdown",
      "metadata": {
        "id": "knSjHPsmK0ZP"
      },
      "source": [
        "#### Training"
      ]
    },
    {
      "cell_type": "code",
      "execution_count": null,
      "metadata": {
        "id": "pCYM7XnRK0ZQ"
      },
      "outputs": [],
      "source": [
        "# Splitting target variables and input variables\n",
        "X = df[['InitialpH', 'Solid%', 'Inoculum%', 'Time(days)']]\n",
        "y = df[['Cu', 'Mo', 'Re']]"
      ]
    },
    {
      "cell_type": "code",
      "execution_count": null,
      "metadata": {
        "id": "QjxB1wR0K0ZR"
      },
      "outputs": [],
      "source": [
        "#  Preprocessing – Scaling the features\n",
        "\n",
        "# Standardization is required before building the model since KNN is a distance based algorithm. If the data\n",
        "# is not standardized, variables with higher value range will have bigger influence in final result.\n",
        "from sklearn.preprocessing import MinMaxScaler\n",
        "scaler = MinMaxScaler(feature_range=(0, 1))\n",
        "\n",
        "X_scaled = scaler.fit_transform(X)\n",
        "X = pd.DataFrame(X_scaled)"
      ]
    },
    {
      "cell_type": "code",
      "execution_count": null,
      "metadata": {
        "id": "4zRwAslkK0ZS"
      },
      "outputs": [],
      "source": [
        "from sklearn.model_selection import train_test_split\n",
        "\n",
        "X_train, X_test, y_train, y_test = train_test_split( X, y, train_size=0.8, random_state=42)"
      ]
    },
    {
      "cell_type": "code",
      "execution_count": null,
      "metadata": {
        "colab": {
          "base_uri": "https://localhost:8080/"
        },
        "id": "J5bcsZH9K0ZT",
        "outputId": "46e7c63b-6978-490a-d0d9-6909d415fd81"
      },
      "outputs": [
        {
          "output_type": "stream",
          "name": "stdout",
          "text": [
            "Train: ((84, 4), (84, 3)) \n",
            "Test: ((21, 4), (21, 3))\n"
          ]
        }
      ],
      "source": [
        "# printing out dataset sizes\n",
        "print(f'Train: {X_train.shape, y_train.shape} \\nTest: {X_test.shape, y_test.shape}')"
      ]
    },
    {
      "cell_type": "code",
      "execution_count": null,
      "metadata": {
        "colab": {
          "base_uri": "https://localhost:8080/"
        },
        "id": "NY942rdrK0ZW",
        "outputId": "ede5eedd-f6a5-4080-d542-0f399db90cc0"
      },
      "outputs": [
        {
          "output_type": "stream",
          "name": "stdout",
          "text": [
            "RMSE value for k=  1 is: 8.689561700090662\n",
            "RMSE value for k=  2 is: 7.713502591055649\n",
            "RMSE value for k=  3 is: 5.788302364949295\n",
            "RMSE value for k=  4 is: 4.377791105148515\n",
            "RMSE value for k=  5 is: 3.431346026788257\n",
            "RMSE value for k=  6 is: 3.5020779923568615\n",
            "RMSE value for k=  7 is: 4.090006981713263\n",
            "RMSE value for k=  8 is: 4.529749694151617\n",
            "RMSE value for k=  9 is: 4.975192582267408\n",
            "RMSE value for k=  10 is: 4.901831500928207\n",
            "RMSE value for k=  11 is: 4.833620865662036\n",
            "RMSE value for k=  12 is: 5.230660744839165\n",
            "RMSE value for k=  13 is: 5.538868005027771\n",
            "RMSE value for k=  14 is: 5.474845717762369\n",
            "RMSE value for k=  15 is: 5.386370023001703\n",
            "RMSE value for k=  16 is: 5.373062766897834\n",
            "RMSE value for k=  17 is: 5.555635293270798\n",
            "RMSE value for k=  18 is: 5.692889374279775\n",
            "RMSE value for k=  19 is: 5.7684047111922405\n",
            "RMSE value for k=  20 is: 5.880259693879201\n"
          ]
        }
      ],
      "source": [
        "# Finding optimal K value\n",
        "\n",
        "rmse_val = [] #to store rmse values for different k\n",
        "for K in range(20):\n",
        "    K = K+1\n",
        "    model = neighbors.KNeighborsRegressor(n_neighbors = K)\n",
        "\n",
        "    model.fit(X_train, y_train)  #fit the model\n",
        "    pred=model.predict(X_test) #make prediction on test set\n",
        "    error = sqrt(mean_squared_error(y_test,pred)) #calculate rmse\n",
        "    rmse_val.append(error) #store rmse values\n",
        "    print('RMSE value for k= ' , K , 'is:', error)"
      ]
    },
    {
      "cell_type": "code",
      "execution_count": null,
      "metadata": {
        "colab": {
          "base_uri": "https://localhost:8080/",
          "height": 279
        },
        "id": "lH-fZubEK0ZX",
        "outputId": "b4f5e80a-d58b-4f0d-a9ba-a2c15ff9a389"
      },
      "outputs": [
        {
          "output_type": "display_data",
          "data": {
            "text/plain": [
              "<Figure size 432x288 with 1 Axes>"
            ],
            "image/png": "[encoded data removed]"
          },
          "metadata": {
            "needs_background": "light"
          }
        }
      ],
      "source": [
        "# Visualize RMSE value to find optimal K value\n",
        "x_list = [item for item in range(1, 21)]\n",
        "x_list\n",
        "plt.plot( x_list ,rmse_val)\n",
        "plt.xlabel('K values')\n",
        "plt.ylabel('RMSE values')\n",
        "plt.show()"
      ]
    },
    {
      "cell_type": "code",
      "execution_count": null,
      "metadata": {
        "colab": {
          "base_uri": "https://localhost:8080/"
        },
        "id": "SMkML8aJK0ZY",
        "outputId": "82d4e0d9-f40c-45d7-b0d2-fdef73f7eaa5"
      },
      "outputs": [
        {
          "output_type": "execute_result",
          "data": {
            "text/plain": [
              "KNeighborsRegressor()"
            ]
          },
          "metadata": {},
          "execution_count": 23
        }
      ],
      "source": [
        "# K = 5 gives the lowest RMSE value\n",
        "knn_model = neighbors.KNeighborsRegressor(n_neighbors = 5)\n",
        "knn_model.fit(X_train, y_train)"
      ]
    },
    {
      "cell_type": "code",
      "execution_count": null,
      "metadata": {
        "colab": {
          "base_uri": "https://localhost:8080/"
        },
        "id": "qbVyz821K0ZZ",
        "outputId": "f6888aec-72cf-45bb-a1bf-8f1f6eb376aa"
      },
      "outputs": [
        {
          "output_type": "stream",
          "name": "stdout",
          "text": [
            "2.4724382568888776\n"
          ]
        }
      ],
      "source": [
        "# Now let's the see the prediction with unseen data (test data)\n",
        "final_predict = knn_model.predict(X_test)\n",
        "RMSE_error = mean_squared_error(y_test,final_predict, squared=False)\n",
        "print(RMSE_error)"
      ]
    },
    {
      "cell_type": "code",
      "execution_count": null,
      "metadata": {
        "colab": {
          "base_uri": "https://localhost:8080/"
        },
        "id": "5MiAWc52K0Za",
        "outputId": "26a6695b-fd9a-4df8-f0cf-072817d5cd71"
      },
      "outputs": [
        {
          "output_type": "execute_result",
          "data": {
            "text/plain": [
              "0.7842017085519303"
            ]
          },
          "metadata": {},
          "execution_count": 25
        }
      ],
      "source": [
        "# Find R2 Value - coefficient of determination of the prediction [0-1]\n",
        "knn_model.score(X_test, y_test)"
      ]
    },
    {
      "cell_type": "code",
      "execution_count": null,
      "metadata": {
        "colab": {
          "base_uri": "https://localhost:8080/"
        },
        "id": "GAQdhXsMK0Zb",
        "outputId": "6335f298-5b7f-4805-963a-0e9c7df7b77f"
      },
      "outputs": [
        {
          "output_type": "stream",
          "name": "stdout",
          "text": [
            "5.787186305393437\n",
            "0.31395450079817067\n",
            "1.3161739644750252\n"
          ]
        }
      ],
      "source": [
        "# check RMSE values for seperate outputs\n",
        "y_test_Cu = y_test.iloc[:,0]\n",
        "y_test_Mo = y_test.iloc[:,1]\n",
        "y_test_Re = y_test.iloc[:,2]\n",
        "\n",
        "y_pred_Cu = final_predict[:,0]\n",
        "y_pred_Mo = final_predict[:,1]\n",
        "y_pred_Re = final_predict[:,2]\n",
        "\n",
        "RMSE_error_Cu = sqrt(mean_squared_error(y_test_Cu,y_pred_Cu))\n",
        "RMSE_error_Mo = sqrt(mean_squared_error(y_test_Mo,y_pred_Mo))\n",
        "RMSE_error_Re = sqrt(mean_squared_error(y_test_Re,y_pred_Re))\n",
        "\n",
        "print(RMSE_error_Cu)\n",
        "print(RMSE_error_Mo)\n",
        "print(RMSE_error_Re)"
      ]
    },
    {
      "cell_type": "markdown",
      "metadata": {
        "id": "W2iskq6zK0Zf"
      },
      "source": [
        "#### Method - 02"
      ]
    },
    {
      "cell_type": "code",
      "execution_count": null,
      "metadata": {
        "id": "T3FrUe-bK0Zg"
      },
      "outputs": [],
      "source": [
        "# Distance based algorithms can greatly affect from outliers\n",
        "# Removing Outliers\n",
        "df_edited = df[df['Time(days)'] != 0]"
      ]
    },
    {
      "cell_type": "code",
      "source": [
        "# Splitting target variables and input variables\n",
        "X = df_edited[['InitialpH', 'Solid%', 'Inoculum%', 'Time(days)']]\n",
        "y = df_edited[['Cu', 'Mo', 'Re']]"
      ],
      "metadata": {
        "id": "R4JOz3gscA4q"
      },
      "execution_count": null,
      "outputs": []
    },
    {
      "cell_type": "code",
      "source": [
        "#  Preprocessing – Scaling the features\n",
        "\n",
        "# Standardization is required before building the model since KNN is a distance based algorithm. If the data\n",
        "# is not standardized, variables with higher value range will have bigger influence in final result.\n",
        "\n",
        "from sklearn.preprocessing import MinMaxScaler\n",
        "scaler = MinMaxScaler(feature_range=(0, 1))\n",
        "\n",
        "X_scaled = scaler.fit_transform(X)\n",
        "X = pd.DataFrame(X_scaled)"
      ],
      "metadata": {
        "id": "wPSQn-Gscrxg"
      },
      "execution_count": null,
      "outputs": []
    },
    {
      "cell_type": "code",
      "source": [
        "from sklearn.model_selection import train_test_split\n",
        "\n",
        "X_train, X_test, y_train, y_test = train_test_split( X, y, train_size=0.8, random_state=42)"
      ],
      "metadata": {
        "id": "GHjZ2N36dGM4"
      },
      "execution_count": null,
      "outputs": []
    },
    {
      "cell_type": "code",
      "source": [
        "# Finding optimal K value\n",
        "rmse_val = [] #to store rmse values for different k\n",
        "for K in range(20):\n",
        "    K = K+1\n",
        "    model = neighbors.KNeighborsRegressor(n_neighbors = K)\n",
        "\n",
        "    model.fit(X_train, y_train)  #fit the model\n",
        "    pred=model.predict(X_test) #make prediction on test set\n",
        "    error = sqrt(mean_squared_error(y_test,pred)) #calculate rmse\n",
        "    rmse_val.append(error) #store rmse values\n",
        "    print('RMSE value for k= ' , K , 'is:', error)"
      ],
      "metadata": {
        "colab": {
          "base_uri": "https://localhost:8080/"
        },
        "id": "MAnIsHWkdLx-",
        "outputId": "42b63b6a-e25c-4c78-bddc-f7f9ec351f86"
      },
      "execution_count": null,
      "outputs": [
        {
          "output_type": "stream",
          "name": "stdout",
          "text": [
            "RMSE value for k=  1 is: 2.162136717505437\n",
            "RMSE value for k=  2 is: 2.1444545192624593\n",
            "RMSE value for k=  3 is: 1.9921387683662963\n",
            "RMSE value for k=  4 is: 2.2469909663320364\n",
            "RMSE value for k=  5 is: 2.4293262745354207\n",
            "RMSE value for k=  6 is: 2.5605220259289876\n",
            "RMSE value for k=  7 is: 2.6969175456289696\n",
            "RMSE value for k=  8 is: 2.8245653652048506\n",
            "RMSE value for k=  9 is: 2.8101978664265284\n",
            "RMSE value for k=  10 is: 2.781006675581637\n",
            "RMSE value for k=  11 is: 2.887319614216146\n",
            "RMSE value for k=  12 is: 2.9212108361920044\n",
            "RMSE value for k=  13 is: 2.9508983744454933\n",
            "RMSE value for k=  14 is: 3.032224492703279\n",
            "RMSE value for k=  15 is: 3.113057499611078\n",
            "RMSE value for k=  16 is: 3.126080181368868\n",
            "RMSE value for k=  17 is: 3.184277919443558\n",
            "RMSE value for k=  18 is: 3.206102530877673\n",
            "RMSE value for k=  19 is: 3.2803471678783835\n",
            "RMSE value for k=  20 is: 3.278061940130682\n"
          ]
        }
      ]
    },
    {
      "cell_type": "code",
      "source": [
        "# Visualize RMSE value to find optimal K value\n",
        "x_list = [item for item in range(1, 21)]\n",
        "x_list\n",
        "plt.plot( x_list ,rmse_val)\n",
        "plt.xlabel('K values')\n",
        "plt.ylabel('RMSE values')\n",
        "plt.show()"
      ],
      "metadata": {
        "colab": {
          "base_uri": "https://localhost:8080/",
          "height": 279
        },
        "id": "GHIWtSF4dRre",
        "outputId": "5c5b6b14-348d-408d-ce9a-4b558b96c560"
      },
      "execution_count": null,
      "outputs": [
        {
          "output_type": "display_data",
          "data": {
            "text/plain": [
              "<Figure size 432x288 with 1 Axes>"
            ],
            "image/png": "[encoded data removed]"
          },
          "metadata": {
            "needs_background": "light"
          }
        }
      ]
    },
    {
      "cell_type": "code",
      "source": [
        "# K = 3 gives the lowest RMSE value\n",
        "knn_model = neighbors.KNeighborsRegressor(n_neighbors = 3)\n",
        "knn_model.fit(X_train, y_train)"
      ],
      "metadata": {
        "colab": {
          "base_uri": "https://localhost:8080/"
        },
        "id": "4C5It-5AdYht",
        "outputId": "568ac6a9-8b30-4d6a-a073-f10427b8f35c"
      },
      "execution_count": null,
      "outputs": [
        {
          "output_type": "execute_result",
          "data": {
            "text/plain": [
              "KNeighborsRegressor(n_neighbors=3)"
            ]
          },
          "metadata": {},
          "execution_count": 33
        }
      ]
    },
    {
      "cell_type": "code",
      "source": [
        "# Now let's the calculate overall RMSE error with unseen data (test data)\n",
        "final_predict = knn_model.predict(X_test)\n",
        "RMSE_error = mean_squared_error(y_test,final_predict, squared=False)\n",
        "print(RMSE_error)"
      ],
      "metadata": {
        "colab": {
          "base_uri": "https://localhost:8080/"
        },
        "id": "O6K9Zoe3ddij",
        "outputId": "6db3f7f3-3b2c-4d62-985a-332c316cc471"
      },
      "execution_count": null,
      "outputs": [
        {
          "output_type": "stream",
          "name": "stdout",
          "text": [
            "1.6916860194683003\n"
          ]
        }
      ]
    },
    {
      "cell_type": "code",
      "source": [
        "# Find R2 Value - coefficient of determination of the prediction [0-1]\n",
        "knn_model.score(X_test, y_test)"
      ],
      "metadata": {
        "colab": {
          "base_uri": "https://localhost:8080/"
        },
        "id": "IMHVaax2dg7X",
        "outputId": "a5d22aa5-e70d-4ed2-ea14-72dcc2d0b77c"
      },
      "execution_count": null,
      "outputs": [
        {
          "output_type": "execute_result",
          "data": {
            "text/plain": [
              "0.7808096561796516"
            ]
          },
          "metadata": {},
          "execution_count": 35
        }
      ]
    },
    {
      "cell_type": "code",
      "source": [
        "# check RMSE values for seperate outputs\n",
        "y_test_Cu = y_test.iloc[:,0]\n",
        "y_test_Mo = y_test.iloc[:,1]\n",
        "y_test_Re = y_test.iloc[:,2]\n",
        "\n",
        "y_pred_Cu = final_predict[:,0]\n",
        "y_pred_Mo = final_predict[:,1]\n",
        "y_pred_Re = final_predict[:,2]\n",
        "\n",
        "RMSE_error_Cu = sqrt(mean_squared_error(y_test_Cu,y_pred_Cu))\n",
        "RMSE_error_Mo = sqrt(mean_squared_error(y_test_Mo,y_pred_Mo))\n",
        "RMSE_error_Re = sqrt(mean_squared_error(y_test_Re,y_pred_Re))\n",
        "\n",
        "print(RMSE_error_Cu)\n",
        "print(RMSE_error_Mo)\n",
        "print(RMSE_error_Re)"
      ],
      "metadata": {
        "colab": {
          "base_uri": "https://localhost:8080/"
        },
        "id": "14mmUeFcdlyv",
        "outputId": "70506f75-d16d-46db-825e-3405d9b57b68"
      },
      "execution_count": null,
      "outputs": [
        {
          "output_type": "stream",
          "name": "stdout",
          "text": [
            "2.5646717836839654\n",
            "0.21181170300732724\n",
            "2.298574571713608\n"
          ]
        }
      ]
    },
    {
      "cell_type": "code",
      "source": [
        "print(final_predict)\n"
      ],
      "metadata": {
        "colab": {
          "base_uri": "https://localhost:8080/"
        },
        "id": "cUIFefkKUF14",
        "outputId": "297d8313-7ed8-4f05-8026-707a7673ed4b"
      },
      "execution_count": null,
      "outputs": [
        {
          "output_type": "stream",
          "name": "stdout",
          "text": [
            "[[42.66333333  1.03        3.57      ]\n",
            " [47.46333333  0.81        3.67666667]\n",
            " [41.08333333  0.64666667  2.33      ]\n",
            " [42.39333333  0.62        2.52      ]\n",
            " [41.43333333  0.69333333  6.36666667]\n",
            " [48.26        0.77        5.23      ]\n",
            " [40.88666667  0.75333333  3.02      ]\n",
            " [58.96666667  0.76333333  6.88      ]\n",
            " [49.46        2.01333333 10.13333333]\n",
            " [40.95333333  0.65666667  1.66      ]\n",
            " [44.58        1.34666667  4.05333333]\n",
            " [47.19333333  1.42333333  6.60666667]\n",
            " [42.34        0.78666667  3.13      ]\n",
            " [38.19333333  0.63333333  2.92333333]\n",
            " [42.33666667  0.59666667  2.33666667]\n",
            " [43.87333333  2.02333333 12.96666667]\n",
            " [43.69        0.52333333  1.98333333]\n",
            " [48.95666667  1.64333333  8.78333333]]\n"
          ]
        }
      ]
    }
  ],
  "metadata": {
    "kernelspec": {
      "display_name": "base",
      "language": "python",
      "name": "python3"
    },
    "language_info": {
      "codemirror_mode": {
        "name": "ipython",
        "version": 3
      },
      "file_extension": ".py",
      "mimetype": "text/x-python",
      "name": "python",
      "nbconvert_exporter": "python",
      "pygments_lexer": "ipython3",
      "version": "3.9.13"
    },
    "orig_nbformat": 4,
    "vscode": {
      "interpreter": {
        "hash": "ad2bdc8ecc057115af97d19610ffacc2b4e99fae6737bb82f5d7fb13d2f2c186"
      }
    },
    "colab": {
      "provenance": [],
      "toc_visible": true,
      "include_colab_link": true
    }
  },
  "nbformat": 4,
  "nbformat_minor": 0
}